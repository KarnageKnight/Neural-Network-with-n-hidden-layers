{
 "cells": [
  {
   "cell_type": "code",
   "execution_count": 59,
   "metadata": {
    "collapsed": true
   },
   "outputs": [],
   "source": [
    "import numpy as np"
   ]
  },
  {
   "cell_type": "code",
   "execution_count": null,
   "metadata": {
    "collapsed": true
   },
   "outputs": [],
   "source": []
  },
  {
   "cell_type": "code",
   "execution_count": 60,
   "metadata": {
    "collapsed": true
   },
   "outputs": [],
   "source": [
    "import matplotlib.pyplot as plt"
   ]
  },
  {
   "cell_type": "code",
   "execution_count": 61,
   "metadata": {
    "collapsed": true
   },
   "outputs": [],
   "source": [
    "import sklearn\n",
    "import sklearn.datasets\n",
    "from dnn_app_utils_v3 import *\n",
    "from dnn_utils_v2 import sigmoid_backward, relu_backward, sigmoid, relu\n",
    "from testCases_v4 import *\n",
    "np.random.seed(1)"
   ]
  },
  {
   "cell_type": "code",
   "execution_count": 62,
   "metadata": {
    "collapsed": true
   },
   "outputs": [],
   "source": [
    "plt.rcParams['figure.figsize'] = (5.0,4.0)"
   ]
  },
  {
   "cell_type": "code",
   "execution_count": 63,
   "metadata": {
    "collapsed": true
   },
   "outputs": [],
   "source": [
    "plt.rcParams['image.interpolation'] = 'nearest'\n",
    "plt.rcParams['image.cmap']='gray'"
   ]
  },
  {
   "cell_type": "code",
   "execution_count": 64,
   "metadata": {
    "collapsed": true
   },
   "outputs": [],
   "source": [
    "def initializeParameters(layer_dims):\n",
    "    parameters={}\n",
    "    L=len(layer_dims)-1\n",
    "    np.random.seed(3)\n",
    "    for l in range(1,L+1):\n",
    "        parameters['W' + str(l)] = np.random.randn(layer_dims[l],layer_dims[l-1])*np.sqrt(2/layer_dims[l-1])\n",
    "        parameters['b' + str(l)] = np.zeros((layer_dims[l],1))\n",
    "        \n",
    "    return parameters"
   ]
  },
  {
   "cell_type": "code",
   "execution_count": 65,
   "metadata": {},
   "outputs": [
    {
     "name": "stdout",
     "output_type": "stream",
     "text": [
      "W1 = [[ 1.46040903  0.3564088   0.07878985]\n",
      " [-1.52153542 -0.22648652 -0.28965949]]\n",
      "b1 = [[ 0.]\n",
      " [ 0.]]\n",
      "W2 = [[-0.08274148 -0.62700068]]\n",
      "b2 = [[ 0.]]\n"
     ]
    }
   ],
   "source": [
    "parameters = initializeParameters([3,2,1])\n",
    "print(\"W1 = \" + str(parameters[\"W1\"]))\n",
    "print(\"b1 = \" + str(parameters[\"b1\"]))\n",
    "print(\"W2 = \" + str(parameters[\"W2\"]))\n",
    "print(\"b2 = \" + str(parameters[\"b2\"]))"
   ]
  },
  {
   "cell_type": "code",
   "execution_count": 66,
   "metadata": {
    "collapsed": true
   },
   "outputs": [],
   "source": [
    "def linear_forward(A,W,b):\n",
    "    Z = np.dot(W,A)+b\n",
    "    assert(Z.shape == (W.shape[0], A.shape[1]))\n",
    "    cache = (A,W,b)\n",
    "    return Z,cache"
   ]
  },
  {
   "cell_type": "code",
   "execution_count": 67,
   "metadata": {},
   "outputs": [
    {
     "name": "stdout",
     "output_type": "stream",
     "text": [
      "Z = [[ 3.26295337 -1.23429987]]\n"
     ]
    }
   ],
   "source": [
    "A, W, b = linear_forward_test_case()\n",
    "\n",
    "Z, linear_cache = linear_forward(A, W, b)\n",
    "print(\"Z = \" + str(Z))"
   ]
  },
  {
   "cell_type": "code",
   "execution_count": 68,
   "metadata": {
    "collapsed": true
   },
   "outputs": [],
   "source": [
    "def linear_activation_forward(A_prev,W,b,activation):\n",
    "    if activation==\"sigmoid\":\n",
    "        Z,linear_cache = linear_forward(A_prev,W,b)\n",
    "        A, activation_cache = sigmoid(Z)\n",
    "    elif activation==\"relu\":\n",
    "        Z,linear_cache = linear_forward(A_prev,W,b)\n",
    "        A, activation_cache = relu(Z)\n",
    "    \n",
    "    assert (A.shape == (W.shape[0], A_prev.shape[1]))\n",
    "    \n",
    "    cache=(linear_cache,activation_cache)\n",
    "    return A, cache"
   ]
  },
  {
   "cell_type": "code",
   "execution_count": 69,
   "metadata": {},
   "outputs": [
    {
     "name": "stdout",
     "output_type": "stream",
     "text": [
      "With sigmoid: A = [[ 0.96890023  0.11013289]]\n",
      "With ReLU: A = [[ 3.43896131  0.        ]]\n"
     ]
    }
   ],
   "source": [
    "A_prev, W, b = linear_activation_forward_test_case()\n",
    "\n",
    "A, linear_activation_cache = linear_activation_forward(A_prev, W, b, activation = \"sigmoid\")\n",
    "print(\"With sigmoid: A = \" + str(A))\n",
    "\n",
    "A, linear_activation_cache = linear_activation_forward(A_prev, W, b, activation = \"relu\")\n",
    "print(\"With ReLU: A = \" + str(A))\n"
   ]
  },
  {
   "cell_type": "code",
   "execution_count": 70,
   "metadata": {
    "collapsed": true
   },
   "outputs": [],
   "source": [
    "def L_model_forward(X,parameters):\n",
    "    caches=[]\n",
    "    A=X\n",
    "    L=len(parameters)//2\n",
    "    for l in range(1,L):\n",
    "        A_prev=A\n",
    "        A, cache = linear_activation_forward(A_prev, parameters[\"W\"+str(l)], parameters[\"b\"+str(l)], activation='relu')\n",
    "        caches.append(cache)\n",
    "        \n",
    "    AL,cache = linear_activation_forward(A,parameters[\"W\"+str(L)],parameters[\"b\"+str(L)],activation='sigmoid')\n",
    "    caches.append(cache)\n",
    "    assert(AL.shape == (1,X.shape[1]))\n",
    "    return AL, caches"
   ]
  },
  {
   "cell_type": "code",
   "execution_count": 71,
   "metadata": {},
   "outputs": [
    {
     "name": "stdout",
     "output_type": "stream",
     "text": [
      "AL = [[ 0.03921668  0.70498921  0.19734387  0.04728177]]\n",
      "Length of caches list = 3\n"
     ]
    }
   ],
   "source": [
    "X, parameters = L_model_forward_test_case_2hidden()\n",
    "AL, caches = L_model_forward(X, parameters)\n",
    "print(\"AL = \" + str(AL))\n",
    "print(\"Length of caches list = \" + str(len(caches)))"
   ]
  },
  {
   "cell_type": "code",
   "execution_count": 72,
   "metadata": {
    "collapsed": true
   },
   "outputs": [],
   "source": [
    "def compute_cost(AL,Y):\n",
    "    m=Y.shape[1]\n",
    "    cost = (-1/m)*(np.sum(np.multiply(1-Y,np.log(1-AL)) + np.multiply(Y,np.log(AL))))\n",
    "    cost = np.squeeze(cost)\n",
    "    assert(cost.shape==())\n",
    "    return cost"
   ]
  },
  {
   "cell_type": "code",
   "execution_count": 73,
   "metadata": {},
   "outputs": [
    {
     "name": "stdout",
     "output_type": "stream",
     "text": [
      "cost = 0.414931599615\n"
     ]
    }
   ],
   "source": [
    "Y, AL = compute_cost_test_case()\n",
    "\n",
    "print(\"cost = \" + str(compute_cost(AL, Y)))"
   ]
  },
  {
   "cell_type": "code",
   "execution_count": 74,
   "metadata": {
    "collapsed": true
   },
   "outputs": [],
   "source": [
    "def linear_backward(dZ, cache):\n",
    "    A_prev,W,b = cache\n",
    "    m = A_prev.shape[1]\n",
    "    dW = (1/m)*np.dot(dZ,A_prev.T)\n",
    "    db = (1/m)*np.sum(dZ,axis=1,keepdims=True)\n",
    "    dA_prev = np.dot(W.T,dZ)\n",
    "    assert (dA_prev.shape == A_prev.shape)\n",
    "    assert (dW.shape == W.shape)\n",
    "    assert (db.shape == b.shape)\n",
    "    return dA_prev, dW, db"
   ]
  },
  {
   "cell_type": "code",
   "execution_count": 75,
   "metadata": {},
   "outputs": [
    {
     "name": "stdout",
     "output_type": "stream",
     "text": [
      "dA_prev = [[ 0.51822968 -0.19517421]\n",
      " [-0.40506361  0.15255393]\n",
      " [ 2.37496825 -0.89445391]]\n",
      "dW = [[-0.10076895  1.40685096  1.64992505]]\n",
      "db = [[ 0.50629448]]\n"
     ]
    }
   ],
   "source": [
    "# Set up some test inputs\n",
    "dZ, linear_cache = linear_backward_test_case()\n",
    "\n",
    "dA_prev, dW, db = linear_backward(dZ, linear_cache)\n",
    "print (\"dA_prev = \"+ str(dA_prev))\n",
    "print (\"dW = \" + str(dW))\n",
    "print (\"db = \" + str(db))"
   ]
  },
  {
   "cell_type": "code",
   "execution_count": 76,
   "metadata": {
    "collapsed": true
   },
   "outputs": [],
   "source": [
    "def linear_activation_backwards(dA,cache,activation):\n",
    "    linear_cache,activation_cache = cache\n",
    "    if activation == \"relu\":\n",
    "        dZ = relu_backward(dA,activation_cache)\n",
    "        dA_prev,dW,db = linear_backward(dZ,linear_cache)\n",
    "    elif activation ==\"sigmoid\":\n",
    "        dZ = sigmoid_backward(dA,activation_cache)\n",
    "        dA_prev,dW,db = linear_backward(dZ,linear_cache)\n",
    "    \n",
    "    return dA_prev,dW,db"
   ]
  },
  {
   "cell_type": "code",
   "execution_count": 77,
   "metadata": {},
   "outputs": [
    {
     "name": "stdout",
     "output_type": "stream",
     "text": [
      "sigmoid:\n",
      "dA_prev = [[ 0.11017994  0.01105339]\n",
      " [ 0.09466817  0.00949723]\n",
      " [-0.05743092 -0.00576154]]\n",
      "dW = [[ 0.10266786  0.09778551 -0.01968084]]\n",
      "db = [[-0.05729622]]\n",
      "\n",
      "relu:\n",
      "dA_prev = [[ 0.44090989 -0.        ]\n",
      " [ 0.37883606 -0.        ]\n",
      " [-0.2298228   0.        ]]\n",
      "dW = [[ 0.44513824  0.37371418 -0.10478989]]\n",
      "db = [[-0.20837892]]\n"
     ]
    }
   ],
   "source": [
    "dAL, linear_activation_cache = linear_activation_backward_test_case()\n",
    "\n",
    "dA_prev, dW, db = linear_activation_backwards(dAL, linear_activation_cache, activation = \"sigmoid\")\n",
    "print (\"sigmoid:\")\n",
    "print (\"dA_prev = \"+ str(dA_prev))\n",
    "print (\"dW = \" + str(dW))\n",
    "print (\"db = \" + str(db) + \"\\n\")\n",
    "\n",
    "dA_prev, dW, db = linear_activation_backwards(dAL, linear_activation_cache, activation = \"relu\")\n",
    "print (\"relu:\")\n",
    "print (\"dA_prev = \"+ str(dA_prev))\n",
    "print (\"dW = \" + str(dW))\n",
    "print (\"db = \" + str(db))"
   ]
  },
  {
   "cell_type": "code",
   "execution_count": 78,
   "metadata": {
    "collapsed": true
   },
   "outputs": [],
   "source": [
    "def L_model_backward(AL,Y,caches):\n",
    "    grads={}\n",
    "    L=len(caches)\n",
    "    m = AL.shape[1]\n",
    "    Y = Y.reshape(AL.shape)\n",
    "    dAL = - (np.divide(Y, AL) - np.divide(1 - Y, 1 - AL))\n",
    "    current_cache = caches[-1]\n",
    "    grads[\"dA\"+str(L-1)], grads[\"dW\"+str(L)],grads[\"db\"+str(L)] = linear_activation_backwards(dAL,current_cache,activation='sigmoid')\n",
    "    for l in reversed(range(L-1)):\n",
    "        current_cache = caches[l]\n",
    "        grads[\"dA\"+str(l)], grads[\"dW\"+str(l+1)],grads[\"db\"+str(l+1)] = linear_activation_backwards(grads[\"dA\"+str(l+1)],current_cache,activation='relu')\n",
    "        \n",
    "    return grads"
   ]
  },
  {
   "cell_type": "code",
   "execution_count": 79,
   "metadata": {},
   "outputs": [
    {
     "name": "stdout",
     "output_type": "stream",
     "text": [
      "dW1 = [[ 0.41010002  0.07807203  0.13798444  0.10502167]\n",
      " [ 0.          0.          0.          0.        ]\n",
      " [ 0.05283652  0.01005865  0.01777766  0.0135308 ]]\n",
      "db1 = [[-0.22007063]\n",
      " [ 0.        ]\n",
      " [-0.02835349]]\n",
      "dA1 = [[ 0.12913162 -0.44014127]\n",
      " [-0.14175655  0.48317296]\n",
      " [ 0.01663708 -0.05670698]]\n"
     ]
    }
   ],
   "source": [
    "AL, Y_assess, caches = L_model_backward_test_case()\n",
    "grads = L_model_backward(AL, Y_assess, caches)\n",
    "print_grads(grads)"
   ]
  },
  {
   "cell_type": "code",
   "execution_count": 80,
   "metadata": {
    "collapsed": true
   },
   "outputs": [],
   "source": [
    "def update_parameters(parameters,grads,learning_rate):\n",
    "    L=len(parameters)//2\n",
    "    for l in range(L):\n",
    "        parameters[\"W\"+str(l+1)]=parameters[\"W\"+str(l+1)]-learning_rate*grads[\"dW\"+str(l+1)]\n",
    "        parameters[\"b\"+str(l+1)]=parameters[\"b\"+str(l+1)]-learning_rate*grads[\"db\"+str(l+1)]\n",
    "    return parameters"
   ]
  },
  {
   "cell_type": "code",
   "execution_count": 81,
   "metadata": {},
   "outputs": [
    {
     "name": "stdout",
     "output_type": "stream",
     "text": [
      "W1 = [[-0.59562069 -0.09991781 -2.14584584  1.82662008]\n",
      " [-1.76569676 -0.80627147  0.51115557 -1.18258802]\n",
      " [-1.0535704  -0.86128581  0.68284052  2.20374577]]\n",
      "b1 = [[-0.04659241]\n",
      " [-1.28888275]\n",
      " [ 0.53405496]]\n",
      "W2 = [[-0.55569196  0.0354055   1.32964895]]\n",
      "b2 = [[-0.84610769]]\n"
     ]
    }
   ],
   "source": [
    "parameters, grads = update_parameters_test_case()\n",
    "parameters = update_parameters(parameters, grads, 0.1)\n",
    "\n",
    "print (\"W1 = \"+ str(parameters[\"W1\"]))\n",
    "print (\"b1 = \"+ str(parameters[\"b1\"]))\n",
    "print (\"W2 = \"+ str(parameters[\"W2\"]))\n",
    "print (\"b2 = \"+ str(parameters[\"b2\"]))"
   ]
  },
  {
   "cell_type": "code",
   "execution_count": 82,
   "metadata": {
    "collapsed": true
   },
   "outputs": [],
   "source": [
    "X = sklearn.datasets.load_iris().data[0:36][:]\n",
    "X = np.concatenate((X,sklearn.datasets.load_iris().data[50:86][:]),axis=0)\n",
    "X = X.reshape(4,72)\n",
    "X = sklearn.preprocessing.normalize(X, norm='l2', axis=1, copy=False, return_norm=False)\n",
    "X_test = sklearn.datasets.load_iris().data[36:50][:]\n",
    "X_test = np.concatenate((X_test,sklearn.datasets.load_iris().data[86:100][:]),axis=0)\n",
    "X_test = X_test.reshape(4,28)"
   ]
  },
  {
   "cell_type": "code",
   "execution_count": 83,
   "metadata": {
    "collapsed": true
   },
   "outputs": [],
   "source": [
    "Y = sklearn.datasets.load_iris().target[0:36][:]\n",
    "Y = np.concatenate((Y,sklearn.datasets.load_iris().target[50:86][:]),axis=0)\n",
    "Y = Y.reshape(1,72)\n",
    "Y_test = sklearn.datasets.load_iris().target[36:50][:]\n",
    "Y_test = np.concatenate((Y_test,sklearn.datasets.load_iris().target[86:100][:]),axis=0)\n",
    "Y_test = Y_test.reshape(1,28)"
   ]
  },
  {
   "cell_type": "markdown",
   "metadata": {},
   "source": [
    "\n",
    "X = Examples_shuffled[0:4][:]\n",
    "Y = (Examples_shuffled[4][:]).reshape(108,1)"
   ]
  },
  {
   "cell_type": "code",
   "execution_count": 84,
   "metadata": {
    "collapsed": true
   },
   "outputs": [],
   "source": [
    "layer_dims = [4,20,5,1]"
   ]
  },
  {
   "cell_type": "code",
   "execution_count": 85,
   "metadata": {
    "collapsed": true
   },
   "outputs": [],
   "source": [
    "def L_layer_model(X,Y,layer_dims,learning_rate=0.0075,num_iteration=3000,print_cost=True):\n",
    "    costs=[]\n",
    "    parameters = initializeParameters(layer_dims)\n",
    "    for i in range(0,num_iteration):\n",
    "        AL,caches = L_model_forward(X,parameters)\n",
    "        cost = compute_cost(AL,Y)\n",
    "        grads = L_model_backward(AL,Y,caches)\n",
    "        parameters = update_parameters(parameters,grads,learning_rate)\n",
    "        if print_cost and i % 100 == 0:\n",
    "            print (\"Cost after iteration %i: %f\" %(i, cost))\n",
    "        if print_cost and i % 100 == 0:\n",
    "            costs.append(cost)\n",
    "    plt.plot(np.squeeze(costs))\n",
    "    plt.ylabel('cost')\n",
    "    plt.xlabel('iterations (per tens)')\n",
    "    plt.title(\"Learning rate =\" + str(learning_rate))\n",
    "    plt.show()\n",
    "    \n",
    "    return parameters"
   ]
  },
  {
   "cell_type": "code",
   "execution_count": 86,
   "metadata": {},
   "outputs": [
    {
     "name": "stdout",
     "output_type": "stream",
     "text": [
      "Cost after iteration 0: 0.692622\n",
      "Cost after iteration 100: 0.692425\n",
      "Cost after iteration 200: 0.692386\n",
      "Cost after iteration 300: 0.692362\n",
      "Cost after iteration 400: 0.692346\n",
      "Cost after iteration 500: 0.692334\n",
      "Cost after iteration 600: 0.692324\n",
      "Cost after iteration 700: 0.692317\n",
      "Cost after iteration 800: 0.692310\n",
      "Cost after iteration 900: 0.692305\n",
      "Cost after iteration 1000: 0.692297\n",
      "Cost after iteration 1100: 0.692292\n",
      "Cost after iteration 1200: 0.692286\n",
      "Cost after iteration 1300: 0.692281\n",
      "Cost after iteration 1400: 0.692276\n",
      "Cost after iteration 1500: 0.692271\n",
      "Cost after iteration 1600: 0.692266\n",
      "Cost after iteration 1700: 0.692261\n",
      "Cost after iteration 1800: 0.692256\n",
      "Cost after iteration 1900: 0.692250\n",
      "Cost after iteration 2000: 0.692245\n",
      "Cost after iteration 2100: 0.692239\n",
      "Cost after iteration 2200: 0.692233\n",
      "Cost after iteration 2300: 0.692228\n",
      "Cost after iteration 2400: 0.692222\n",
      "Cost after iteration 2500: 0.692217\n",
      "Cost after iteration 2600: 0.692211\n",
      "Cost after iteration 2700: 0.692206\n",
      "Cost after iteration 2800: 0.692201\n",
      "Cost after iteration 2900: 0.692195\n",
      "Cost after iteration 3000: 0.692190\n",
      "Cost after iteration 3100: 0.692185\n",
      "Cost after iteration 3200: 0.692179\n",
      "Cost after iteration 3300: 0.692174\n",
      "Cost after iteration 3400: 0.692168\n",
      "Cost after iteration 3500: 0.692163\n",
      "Cost after iteration 3600: 0.692157\n",
      "Cost after iteration 3700: 0.692151\n",
      "Cost after iteration 3800: 0.692146\n",
      "Cost after iteration 3900: 0.692140\n",
      "Cost after iteration 4000: 0.692134\n",
      "Cost after iteration 4100: 0.692129\n",
      "Cost after iteration 4200: 0.692123\n",
      "Cost after iteration 4300: 0.692115\n",
      "Cost after iteration 4400: 0.692107\n",
      "Cost after iteration 4500: 0.692099\n",
      "Cost after iteration 4600: 0.692090\n",
      "Cost after iteration 4700: 0.692082\n",
      "Cost after iteration 4800: 0.692074\n",
      "Cost after iteration 4900: 0.692062\n",
      "Cost after iteration 5000: 0.692052\n",
      "Cost after iteration 5100: 0.692042\n",
      "Cost after iteration 5200: 0.692033\n",
      "Cost after iteration 5300: 0.692026\n",
      "Cost after iteration 5400: 0.692019\n",
      "Cost after iteration 5500: 0.692012\n",
      "Cost after iteration 5600: 0.692006\n",
      "Cost after iteration 5700: 0.691999\n",
      "Cost after iteration 5800: 0.691992\n",
      "Cost after iteration 5900: 0.691984\n",
      "Cost after iteration 6000: 0.691976\n",
      "Cost after iteration 6100: 0.691960\n",
      "Cost after iteration 6200: 0.691948\n",
      "Cost after iteration 6300: 0.691936\n",
      "Cost after iteration 6400: 0.691925\n",
      "Cost after iteration 6500: 0.691914\n",
      "Cost after iteration 6600: 0.691901\n",
      "Cost after iteration 6700: 0.691659\n",
      "Cost after iteration 6800: 0.691641\n",
      "Cost after iteration 6900: 0.691627\n",
      "Cost after iteration 7000: 0.691616\n",
      "Cost after iteration 7100: 0.691606\n",
      "Cost after iteration 7200: 0.691596\n",
      "Cost after iteration 7300: 0.691586\n",
      "Cost after iteration 7400: 0.691576\n",
      "Cost after iteration 7500: 0.691566\n",
      "Cost after iteration 7600: 0.691552\n",
      "Cost after iteration 7700: 0.691539\n",
      "Cost after iteration 7800: 0.691526\n",
      "Cost after iteration 7900: 0.691512\n",
      "Cost after iteration 8000: 0.691499\n",
      "Cost after iteration 8100: 0.691485\n",
      "Cost after iteration 8200: 0.691471\n",
      "Cost after iteration 8300: 0.691457\n",
      "Cost after iteration 8400: 0.691443\n",
      "Cost after iteration 8500: 0.691429\n",
      "Cost after iteration 8600: 0.691415\n",
      "Cost after iteration 8700: 0.691401\n",
      "Cost after iteration 8800: 0.691387\n",
      "Cost after iteration 8900: 0.691372\n",
      "Cost after iteration 9000: 0.691358\n",
      "Cost after iteration 9100: 0.691344\n",
      "Cost after iteration 9200: 0.691328\n",
      "Cost after iteration 9300: 0.691314\n",
      "Cost after iteration 9400: 0.691299\n",
      "Cost after iteration 9500: 0.691284\n",
      "Cost after iteration 9600: 0.691268\n",
      "Cost after iteration 9700: 0.691253\n",
      "Cost after iteration 9800: 0.691238\n",
      "Cost after iteration 9900: 0.691221\n",
      "Cost after iteration 10000: 0.691206\n",
      "Cost after iteration 10100: 0.691190\n",
      "Cost after iteration 10200: 0.691175\n",
      "Cost after iteration 10300: 0.691159\n",
      "Cost after iteration 10400: 0.691141\n",
      "Cost after iteration 10500: 0.691125\n",
      "Cost after iteration 10600: 0.691109\n",
      "Cost after iteration 10700: 0.691093\n",
      "Cost after iteration 10800: 0.691076\n",
      "Cost after iteration 10900: 0.691060\n",
      "Cost after iteration 11000: 0.691043\n",
      "Cost after iteration 11100: 0.691026\n",
      "Cost after iteration 11200: 0.691010\n",
      "Cost after iteration 11300: 0.690993\n",
      "Cost after iteration 11400: 0.690976\n",
      "Cost after iteration 11500: 0.690958\n",
      "Cost after iteration 11600: 0.690941\n",
      "Cost after iteration 11700: 0.690924\n",
      "Cost after iteration 11800: 0.690906\n",
      "Cost after iteration 11900: 0.690887\n",
      "Cost after iteration 12000: 0.690870\n",
      "Cost after iteration 12100: 0.690852\n",
      "Cost after iteration 12200: 0.690835\n",
      "Cost after iteration 12300: 0.690816\n",
      "Cost after iteration 12400: 0.690798\n",
      "Cost after iteration 12500: 0.690780\n",
      "Cost after iteration 12600: 0.690761\n",
      "Cost after iteration 12700: 0.690743\n",
      "Cost after iteration 12800: 0.690724\n",
      "Cost after iteration 12900: 0.690705\n",
      "Cost after iteration 13000: 0.690686\n",
      "Cost after iteration 13100: 0.690668\n",
      "Cost after iteration 13200: 0.690649\n",
      "Cost after iteration 13300: 0.690630\n",
      "Cost after iteration 13400: 0.690610\n",
      "Cost after iteration 13500: 0.690591\n",
      "Cost after iteration 13600: 0.690571\n",
      "Cost after iteration 13700: 0.690551\n",
      "Cost after iteration 13800: 0.690531\n",
      "Cost after iteration 13900: 0.690511\n",
      "Cost after iteration 14000: 0.690476\n",
      "Cost after iteration 14100: 0.690455\n",
      "Cost after iteration 14200: 0.690435\n",
      "Cost after iteration 14300: 0.690414\n",
      "Cost after iteration 14400: 0.690393\n",
      "Cost after iteration 14500: 0.690373\n",
      "Cost after iteration 14600: 0.690346\n",
      "Cost after iteration 14700: 0.690314\n",
      "Cost after iteration 14800: 0.690284\n",
      "Cost after iteration 14900: 0.690253\n"
     ]
    },
    {
     "data": {
      "image/png": "[encoded data removed]",
      "text/plain": [
       "<matplotlib.figure.Figure at 0x7ff88bc80208>"
      ]
     },
     "metadata": {},
     "output_type": "display_data"
    }
   ],
   "source": [
    "parameters = L_layer_model(X,Y,layer_dims,learning_rate=0.009,num_iteration=15000,print_cost=True)"
   ]
  },
  {
   "cell_type": "code",
   "execution_count": 87,
   "metadata": {},
   "outputs": [
    {
     "name": "stdout",
     "output_type": "stream",
     "text": [
      "Accuracy: 0.638888888889\n",
      "[[ 0.  1.  0.  0.  0.  1.  0.  0.  0.  1.  0.  0.  0.  1.  0.  0.  0.  1.\n",
      "   0.  0.  1.  1.  0.  1.  0.  1.  0.  0.  1.  1.  0.  1.  0.  1.  0.  0.\n",
      "   1.  1.  0.  0.  1.  1.  0.  1.  1.  1.  0.  0.  1.  1.  0.  1.  0.  1.\n",
      "   0.  0.  1.  1.  0.  1.  1.  1.  0.  1.  1.  1.  0.  1.  1.  1.  0.  1.]]\n"
     ]
    }
   ],
   "source": [
    "predictions_train = predict(X, Y, parameters)\n",
    "print(predictions_train)"
   ]
  },
  {
   "cell_type": "code",
   "execution_count": 88,
   "metadata": {},
   "outputs": [
    {
     "name": "stdout",
     "output_type": "stream",
     "text": [
      "Accuracy: 0.464285714286\n",
      "[[ 0.  1.  0.  0.  0.  1.  0.  0.  0.  0.  0.  0.  0.  1.  0.  0.  0.  1.\n",
      "   0.  0.  0.  0.  0.  0.  0.  1.  0.  0.]]\n"
     ]
    }
   ],
   "source": [
    "pred_test = predict(X_test, Y_test, parameters)\n",
    "print(pred_test)"
   ]
  },
  {
   "cell_type": "code",
   "execution_count": null,
   "metadata": {
    "collapsed": true
   },
   "outputs": [],
   "source": []
  },
  {
   "cell_type": "code",
   "execution_count": null,
   "metadata": {
    "collapsed": true
   },
   "outputs": [],
   "source": []
  }
 ],
 "metadata": {
  "kernelspec": {
   "display_name": "Python 3",
   "language": "python",
   "name": "python3"
  },
  "language_info": {
   "codemirror_mode": {
    "name": "ipython",
    "version": 3
   },
   "file_extension": ".py",
   "mimetype": "text/x-python",
   "name": "python",
   "nbconvert_exporter": "python",
   "pygments_lexer": "ipython3",
   "version": "3.6.0"
  }
 },
 "nbformat": 4,
 "nbformat_minor": 2
}
